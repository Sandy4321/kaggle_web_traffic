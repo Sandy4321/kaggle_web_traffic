{
 "cells": [
  {
   "cell_type": "markdown",
   "metadata": {},
   "source": [
    "# Library"
   ]
  },
  {
   "cell_type": "code",
   "execution_count": null,
   "metadata": {
    "ExecuteTime": {
     "end_time": "2018-02-11T20:05:10.154559Z",
     "start_time": "2018-02-11T20:05:09.325195Z"
    }
   },
   "outputs": [],
   "source": [
    "import pandas as pd\n",
    "import numpy as np\n",
    "import re\n",
    "import pickle\n",
    "import os\n",
    "\n",
    "import matplotlib\n",
    "import matplotlib.pyplot as plt\n",
    "%matplotlib inline"
   ]
  },
  {
   "cell_type": "markdown",
   "metadata": {},
   "source": [
    "# Scoring functions"
   ]
  },
  {
   "cell_type": "code",
   "execution_count": null,
   "metadata": {
    "ExecuteTime": {
     "start_time": "2018-02-11T20:05:09.270Z"
    }
   },
   "outputs": [],
   "source": [
    "def smape(y_true, y_pred):\n",
    "    \"\"\"\n",
    "    Scoring function\n",
    "    \"\"\"\n",
    "    denominator = (np.abs(y_true) + np.abs(y_pred)) / 2.0\n",
    "    diff = np.abs(y_true - y_pred) / denominator\n",
    "    diff[denominator == 0] = 0.0\n",
    "    return 100 * np.mean(diff)\n",
    "\n",
    "\n",
    "def smape_serie(x):\n",
    "    \"\"\"\n",
    "    Scoring function on serie\n",
    "    \"\"\"\n",
    "    return smape(y_pred=x.Visits, y_true=x.value)\n"
   ]
  },
  {
   "cell_type": "markdown",
   "metadata": {},
   "source": [
    "# Helping functions"
   ]
  },
  {
   "cell_type": "code",
   "execution_count": null,
   "metadata": {
    "ExecuteTime": {
     "start_time": "2018-02-11T20:05:09.273Z"
    }
   },
   "outputs": [],
   "source": [
    "def create_train():\n",
    "    if os.path.isfile(\"../data/work/train.pickle\"):\n",
    "        data = pd.read_pickle(\"../data/work/train.pickle\")\n",
    "    else:\n",
    "        data = pd.read_csv('../data/input/train_2.csv')\n",
    "        cols = data.columns[data.columns.str.contains(\"-\")].tolist()\n",
    "        data[\"Page\"] = data[\"Page\"].astype(str)\n",
    "        data = data.set_index(\"Page\").T\n",
    "        data.index = pd.to_datetime(data.index, format=\"%Y-%m-%d\")\n",
    "        data.to_pickle(\"../data/work/train.pickle\")\n",
    "    return data\n",
    "\n",
    "\n",
    "def create_test():\n",
    "    if os.path.isfile(\"../data/work/test.pickle\"):\n",
    "        df_test = pd.read_pickle(\"../data/work/test.pickle\")\n",
    "    else:\n",
    "        df_test = pd.read_csv(\"../data/input/key_2.csv\")\n",
    "        df_test['date'] = df_test.Page.apply(lambda a: a[-10:])\n",
    "        df_test['Page'] = df_test.Page.apply(lambda a: a[:-11])\n",
    "        df_test['date'] = pd.to_datetime(df_test['date'], format=\"%Y-%m-%d\")\n",
    "        df_test.to_pickle(\"../data/work/test.pickle\")\n",
    "    return df_test"
   ]
  },
  {
   "cell_type": "markdown",
   "metadata": {},
   "source": [
    "# Read data"
   ]
  },
  {
   "cell_type": "code",
   "execution_count": null,
   "metadata": {
    "ExecuteTime": {
     "start_time": "2018-02-11T20:05:09.281Z"
    },
    "code_folding": []
   },
   "outputs": [],
   "source": [
    "data = create_train()\n",
    "print(data.info())\n",
    "data.head()"
   ]
  },
  {
   "cell_type": "markdown",
   "metadata": {},
   "source": [
    "# Train / Test"
   ]
  },
  {
   "cell_type": "code",
   "execution_count": null,
   "metadata": {
    "ExecuteTime": {
     "start_time": "2018-02-11T20:05:09.285Z"
    }
   },
   "outputs": [],
   "source": [
    "## Split in train / test to evaluate scoring \n",
    "train = data.iloc[:-60]\n",
    "test = data.iloc[-60:]\n",
    "print(train.shape)\n",
    "print(test.shape)\n",
    "print(data.shape)"
   ]
  },
  {
   "cell_type": "markdown",
   "metadata": {},
   "source": [
    "# Median model"
   ]
  },
  {
   "cell_type": "markdown",
   "metadata": {},
   "source": [
    "## Test\n",
    "\n",
    "Median model with several windows combination"
   ]
  },
  {
   "cell_type": "code",
   "execution_count": null,
   "metadata": {
    "ExecuteTime": {
     "start_time": "2018-02-11T20:05:09.289Z"
    }
   },
   "outputs": [],
   "source": [
    "def add_is_weekend(df):\n",
    "    return df.assign(is_weekend=lambda x: x.index.dayofweek.isin([0, 1]))"
   ]
  },
  {
   "cell_type": "code",
   "execution_count": null,
   "metadata": {
    "ExecuteTime": {
     "start_time": "2018-02-11T20:05:09.293Z"
    }
   },
   "outputs": [],
   "source": [
    "from functools import reduce\n",
    "\n",
    "Windows = [6, 12, 18, 30, 48, 78, 126, 203, 329]\n",
    "train = add_is_weekend(train.iloc[-329:])\n",
    "median_model = []\n",
    "for x in reversed(Windows):\n",
    "    median_model.append(train.iloc[-x:].groupby(\"is_weekend\").median().stack())\n",
    "\n",
    "median_model = reduce(\n",
    "    lambda x, y: pd.merge(x, y, on=['is_weekend', \"Page\"], how=\"outer\"),\n",
    "    [x.reset_index()\n",
    "     for x in median_model]).set_index([\"is_weekend\", \"Page\"]).median(\n",
    "         axis=1).reset_index().rename(columns={0: \"Visits\"})\n",
    "\n",
    "median_model = pd.merge(\n",
    "    add_is_weekend(test).reset_index(drop=True).melt(\n",
    "        id_vars=\"is_weekend\").dropna(),\n",
    "    median_model,\n",
    "    on=[\"Page\", \"is_weekend\"],\n",
    "    how=\"outer\").fillna(0)\n",
    "\n",
    "print(\"SMAPE is : \")\n",
    "print(smape(y_pred=median_model.Visits, y_true=median_model.value))"
   ]
  },
  {
   "cell_type": "markdown",
   "metadata": {},
   "source": [
    "## Submission"
   ]
  },
  {
   "cell_type": "code",
   "execution_count": null,
   "metadata": {
    "ExecuteTime": {
     "start_time": "2018-02-11T20:05:09.299Z"
    }
   },
   "outputs": [],
   "source": [
    "df = add_is_weekend(data.iloc[-329:])\n",
    "median_model_submission = []\n",
    "for x in reversed(Windows):\n",
    "    median_model_submission.append(\n",
    "        df.iloc[-x:].groupby(\"is_weekend\").median().stack())\n",
    "\n",
    "median_model_submission = reduce(\n",
    "    lambda x, y: pd.merge(x, y, on=['is_weekend', \"Page\"], how=\"outer\"), [\n",
    "        x.reset_index() for x in median_model_submission\n",
    "    ]).set_index([\"is_weekend\", \"Page\"]).median(axis=1).reset_index().rename(\n",
    "        columns={0: \"Visits\"})\n",
    "\n",
    "df_test = create_test()\n",
    "df_test[\"is_weekend\"] = df_test.date.dt.dayofweek.isin([0, 1])\n",
    "\n",
    "df_submit = pd.merge(\n",
    "    df_test, median_model_submission, on=[\"Page\", \"is_weekend\"],\n",
    "    how=\"outer\")[[\"Id\", \"Visits\"]].fillna(0)\n",
    "df_submit.to_csv(\n",
    "    \"../data/submission/submission_median_weekend_multiple_windows.csv\", index=False)\n",
    "df_submit.head()"
   ]
  }
 ],
 "metadata": {
  "kernelspec": {
   "display_name": "Python [default]",
   "language": "python",
   "name": "python3"
  },
  "language_info": {
   "codemirror_mode": {
    "name": "ipython",
    "version": 3
   },
   "file_extension": ".py",
   "mimetype": "text/x-python",
   "name": "python",
   "nbconvert_exporter": "python",
   "pygments_lexer": "ipython3",
   "version": "3.6.3"
  },
  "toc": {
   "colors": {
    "hover_highlight": "#DAA520",
    "running_highlight": "#FF0000",
    "selected_highlight": "#FFD700"
   },
   "moveMenuLeft": true,
   "nav_menu": {
    "height": "242px",
    "width": "252px"
   },
   "navigate_menu": true,
   "number_sections": true,
   "sideBar": true,
   "threshold": 4,
   "toc_cell": false,
   "toc_section_display": "block",
   "toc_window_display": true,
   "widenNotebook": false
  }
 },
 "nbformat": 4,
 "nbformat_minor": 2
}
