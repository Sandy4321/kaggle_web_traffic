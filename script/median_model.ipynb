{
 "cells": [
  {
   "cell_type": "markdown",
   "metadata": {},
   "source": [
    "# Library"
   ]
  },
  {
   "cell_type": "code",
   "execution_count": 1,
   "metadata": {
    "ExecuteTime": {
     "end_time": "2018-02-12T07:01:33.147643Z",
     "start_time": "2018-02-12T07:01:30.934786Z"
    },
    "collapsed": true
   },
   "outputs": [],
   "source": [
    "import pandas as pd\n",
    "import numpy as np\n",
    "import re\n",
    "import pickle\n",
    "import os\n",
    "\n",
    "import matplotlib\n",
    "import matplotlib.pyplot as plt\n",
    "%matplotlib inline"
   ]
  },
  {
   "cell_type": "markdown",
   "metadata": {},
   "source": [
    "# Scoring functions"
   ]
  },
  {
   "cell_type": "code",
   "execution_count": 2,
   "metadata": {
    "ExecuteTime": {
     "end_time": "2018-02-12T07:01:33.217771Z",
     "start_time": "2018-02-12T07:01:33.168497Z"
    },
    "collapsed": true
   },
   "outputs": [],
   "source": [
    "def smape(y_true, y_pred):\n",
    "    \"\"\"\n",
    "    Scoring function\n",
    "    \"\"\"\n",
    "    denominator = (np.abs(y_true) + np.abs(y_pred)) / 2.0\n",
    "    diff = np.abs(y_true - y_pred) / denominator\n",
    "    diff[denominator == 0] = 0.0\n",
    "    return 100 * np.mean(diff)\n",
    "\n",
    "\n",
    "def smape_serie(x):\n",
    "    \"\"\"\n",
    "    Scoring function on serie\n",
    "    \"\"\"\n",
    "    return smape(y_pred=x.Visits, y_true=x.value)\n"
   ]
  },
  {
   "cell_type": "markdown",
   "metadata": {},
   "source": [
    "# Helping functions"
   ]
  },
  {
   "cell_type": "code",
   "execution_count": 3,
   "metadata": {
    "ExecuteTime": {
     "end_time": "2018-02-12T07:01:33.298717Z",
     "start_time": "2018-02-12T07:01:33.221455Z"
    },
    "collapsed": true
   },
   "outputs": [],
   "source": [
    "def create_train():\n",
    "    if os.path.isfile(\"../data/work/train.pickle\"):\n",
    "        data = pd.read_pickle(\"../data/work/train.pickle\")\n",
    "    else:\n",
    "        data = pd.read_csv('../data/input/train_2.csv')\n",
    "        cols = data.columns[data.columns.str.contains(\"-\")].tolist()\n",
    "        data[\"Page\"] = data[\"Page\"].astype(str)\n",
    "        data = data.set_index(\"Page\").T\n",
    "        data.index = pd.to_datetime(data.index, format=\"%Y-%m-%d\")\n",
    "        data.to_pickle(\"../data/work/train.pickle\")\n",
    "    return data\n",
    "\n",
    "\n",
    "def create_test():\n",
    "    if os.path.isfile(\"../data/work/test.pickle\"):\n",
    "        df_test = pd.read_pickle(\"../data/work/test.pickle\")\n",
    "    else:\n",
    "        df_test = pd.read_csv(\"../data/input/key_2.csv\")\n",
    "        df_test['date'] = df_test.Page.apply(lambda a: a[-10:])\n",
    "        df_test['Page'] = df_test.Page.apply(lambda a: a[:-11])\n",
    "        df_test['date'] = pd.to_datetime(df_test['date'], format=\"%Y-%m-%d\")\n",
    "        df_test.to_pickle(\"../data/work/test.pickle\")\n",
    "    return df_test"
   ]
  },
  {
   "cell_type": "markdown",
   "metadata": {},
   "source": [
    "# Read data"
   ]
  },
  {
   "cell_type": "code",
   "execution_count": 4,
   "metadata": {
    "ExecuteTime": {
     "end_time": "2018-02-12T07:02:05.900249Z",
     "start_time": "2018-02-12T07:01:33.303331Z"
    },
    "code_folding": []
   },
   "outputs": [
    {
     "name": "stdout",
     "output_type": "stream",
     "text": [
      "<class 'pandas.core.frame.DataFrame'>\n",
      "DatetimeIndex: 793 entries, 2015-07-01 to 2017-08-31\n",
      "Columns: 145063 entries, 2NE1_zh.wikipedia.org_all-access_spider to Francisco_el_matemÃ¡tico_(serie_de_televisiÃ³n_de_2017)_es.wikipedia.org_all-access_spider\n",
      "dtypes: float64(145063)\n",
      "memory usage: 877.7 MB\n",
      "None\n"
     ]
    },
    {
     "data": {
      "text/html": [
       "<div>\n",
       "<style>\n",
       "    .dataframe thead tr:only-child th {\n",
       "        text-align: right;\n",
       "    }\n",
       "\n",
       "    .dataframe thead th {\n",
       "        text-align: left;\n",
       "    }\n",
       "\n",
       "    .dataframe tbody tr th {\n",
       "        vertical-align: top;\n",
       "    }\n",
       "</style>\n",
       "<table border=\"1\" class=\"dataframe\">\n",
       "  <thead>\n",
       "    <tr style=\"text-align: right;\">\n",
       "      <th>Page</th>\n",
       "      <th>2NE1_zh.wikipedia.org_all-access_spider</th>\n",
       "      <th>2PM_zh.wikipedia.org_all-access_spider</th>\n",
       "      <th>3C_zh.wikipedia.org_all-access_spider</th>\n",
       "      <th>4minute_zh.wikipedia.org_all-access_spider</th>\n",
       "      <th>52_Hz_I_Love_You_zh.wikipedia.org_all-access_spider</th>\n",
       "      <th>5566_zh.wikipedia.org_all-access_spider</th>\n",
       "      <th>91Days_zh.wikipedia.org_all-access_spider</th>\n",
       "      <th>A'N'D_zh.wikipedia.org_all-access_spider</th>\n",
       "      <th>AKB48_zh.wikipedia.org_all-access_spider</th>\n",
       "      <th>ASCII_zh.wikipedia.org_all-access_spider</th>\n",
       "      <th>...</th>\n",
       "      <th>Drake_(mÃºsico)_es.wikipedia.org_all-access_spider</th>\n",
       "      <th>Skam_(serie_de_televisiÃ³n)_es.wikipedia.org_all-access_spider</th>\n",
       "      <th>LegiÃ³n_(serie_de_televisiÃ³n)_es.wikipedia.org_all-access_spider</th>\n",
       "      <th>Doble_tentaciÃ³n_es.wikipedia.org_all-access_spider</th>\n",
       "      <th>Mi_adorable_maldiciÃ³n_es.wikipedia.org_all-access_spider</th>\n",
       "      <th>Underworld_(serie_de_pelÃ­culas)_es.wikipedia.org_all-access_spider</th>\n",
       "      <th>Resident_Evil:_CapÃ­tulo_Final_es.wikipedia.org_all-access_spider</th>\n",
       "      <th>EnamorÃ¡ndome_de_RamÃ³n_es.wikipedia.org_all-access_spider</th>\n",
       "      <th>Hasta_el_Ãºltimo_hombre_es.wikipedia.org_all-access_spider</th>\n",
       "      <th>Francisco_el_matemÃ¡tico_(serie_de_televisiÃ³n_de_2017)_es.wikipedia.org_all-access_spider</th>\n",
       "    </tr>\n",
       "  </thead>\n",
       "  <tbody>\n",
       "    <tr>\n",
       "      <th>2015-07-01</th>\n",
       "      <td>18.0</td>\n",
       "      <td>11.0</td>\n",
       "      <td>1.0</td>\n",
       "      <td>35.0</td>\n",
       "      <td>NaN</td>\n",
       "      <td>12.0</td>\n",
       "      <td>NaN</td>\n",
       "      <td>118.0</td>\n",
       "      <td>5.0</td>\n",
       "      <td>6.0</td>\n",
       "      <td>...</td>\n",
       "      <td>NaN</td>\n",
       "      <td>NaN</td>\n",
       "      <td>NaN</td>\n",
       "      <td>NaN</td>\n",
       "      <td>NaN</td>\n",
       "      <td>NaN</td>\n",
       "      <td>NaN</td>\n",
       "      <td>NaN</td>\n",
       "      <td>NaN</td>\n",
       "      <td>NaN</td>\n",
       "    </tr>\n",
       "    <tr>\n",
       "      <th>2015-07-02</th>\n",
       "      <td>11.0</td>\n",
       "      <td>14.0</td>\n",
       "      <td>0.0</td>\n",
       "      <td>13.0</td>\n",
       "      <td>NaN</td>\n",
       "      <td>7.0</td>\n",
       "      <td>NaN</td>\n",
       "      <td>26.0</td>\n",
       "      <td>23.0</td>\n",
       "      <td>3.0</td>\n",
       "      <td>...</td>\n",
       "      <td>NaN</td>\n",
       "      <td>NaN</td>\n",
       "      <td>NaN</td>\n",
       "      <td>NaN</td>\n",
       "      <td>NaN</td>\n",
       "      <td>NaN</td>\n",
       "      <td>NaN</td>\n",
       "      <td>NaN</td>\n",
       "      <td>NaN</td>\n",
       "      <td>NaN</td>\n",
       "    </tr>\n",
       "    <tr>\n",
       "      <th>2015-07-03</th>\n",
       "      <td>5.0</td>\n",
       "      <td>15.0</td>\n",
       "      <td>1.0</td>\n",
       "      <td>10.0</td>\n",
       "      <td>NaN</td>\n",
       "      <td>4.0</td>\n",
       "      <td>NaN</td>\n",
       "      <td>30.0</td>\n",
       "      <td>14.0</td>\n",
       "      <td>5.0</td>\n",
       "      <td>...</td>\n",
       "      <td>NaN</td>\n",
       "      <td>NaN</td>\n",
       "      <td>NaN</td>\n",
       "      <td>NaN</td>\n",
       "      <td>NaN</td>\n",
       "      <td>NaN</td>\n",
       "      <td>NaN</td>\n",
       "      <td>NaN</td>\n",
       "      <td>NaN</td>\n",
       "      <td>NaN</td>\n",
       "    </tr>\n",
       "    <tr>\n",
       "      <th>2015-07-04</th>\n",
       "      <td>13.0</td>\n",
       "      <td>18.0</td>\n",
       "      <td>1.0</td>\n",
       "      <td>94.0</td>\n",
       "      <td>NaN</td>\n",
       "      <td>5.0</td>\n",
       "      <td>NaN</td>\n",
       "      <td>24.0</td>\n",
       "      <td>12.0</td>\n",
       "      <td>12.0</td>\n",
       "      <td>...</td>\n",
       "      <td>NaN</td>\n",
       "      <td>NaN</td>\n",
       "      <td>NaN</td>\n",
       "      <td>NaN</td>\n",
       "      <td>NaN</td>\n",
       "      <td>NaN</td>\n",
       "      <td>NaN</td>\n",
       "      <td>NaN</td>\n",
       "      <td>NaN</td>\n",
       "      <td>NaN</td>\n",
       "    </tr>\n",
       "    <tr>\n",
       "      <th>2015-07-05</th>\n",
       "      <td>14.0</td>\n",
       "      <td>11.0</td>\n",
       "      <td>0.0</td>\n",
       "      <td>4.0</td>\n",
       "      <td>NaN</td>\n",
       "      <td>20.0</td>\n",
       "      <td>NaN</td>\n",
       "      <td>29.0</td>\n",
       "      <td>9.0</td>\n",
       "      <td>6.0</td>\n",
       "      <td>...</td>\n",
       "      <td>NaN</td>\n",
       "      <td>NaN</td>\n",
       "      <td>NaN</td>\n",
       "      <td>NaN</td>\n",
       "      <td>NaN</td>\n",
       "      <td>NaN</td>\n",
       "      <td>NaN</td>\n",
       "      <td>NaN</td>\n",
       "      <td>NaN</td>\n",
       "      <td>NaN</td>\n",
       "    </tr>\n",
       "  </tbody>\n",
       "</table>\n",
       "<p>5 rows × 145063 columns</p>\n",
       "</div>"
      ],
      "text/plain": [
       "Page        2NE1_zh.wikipedia.org_all-access_spider  \\\n",
       "2015-07-01                                     18.0   \n",
       "2015-07-02                                     11.0   \n",
       "2015-07-03                                      5.0   \n",
       "2015-07-04                                     13.0   \n",
       "2015-07-05                                     14.0   \n",
       "\n",
       "Page        2PM_zh.wikipedia.org_all-access_spider  \\\n",
       "2015-07-01                                    11.0   \n",
       "2015-07-02                                    14.0   \n",
       "2015-07-03                                    15.0   \n",
       "2015-07-04                                    18.0   \n",
       "2015-07-05                                    11.0   \n",
       "\n",
       "Page        3C_zh.wikipedia.org_all-access_spider  \\\n",
       "2015-07-01                                    1.0   \n",
       "2015-07-02                                    0.0   \n",
       "2015-07-03                                    1.0   \n",
       "2015-07-04                                    1.0   \n",
       "2015-07-05                                    0.0   \n",
       "\n",
       "Page        4minute_zh.wikipedia.org_all-access_spider  \\\n",
       "2015-07-01                                        35.0   \n",
       "2015-07-02                                        13.0   \n",
       "2015-07-03                                        10.0   \n",
       "2015-07-04                                        94.0   \n",
       "2015-07-05                                         4.0   \n",
       "\n",
       "Page        52_Hz_I_Love_You_zh.wikipedia.org_all-access_spider  \\\n",
       "2015-07-01                                                NaN     \n",
       "2015-07-02                                                NaN     \n",
       "2015-07-03                                                NaN     \n",
       "2015-07-04                                                NaN     \n",
       "2015-07-05                                                NaN     \n",
       "\n",
       "Page        5566_zh.wikipedia.org_all-access_spider  \\\n",
       "2015-07-01                                     12.0   \n",
       "2015-07-02                                      7.0   \n",
       "2015-07-03                                      4.0   \n",
       "2015-07-04                                      5.0   \n",
       "2015-07-05                                     20.0   \n",
       "\n",
       "Page        91Days_zh.wikipedia.org_all-access_spider  \\\n",
       "2015-07-01                                        NaN   \n",
       "2015-07-02                                        NaN   \n",
       "2015-07-03                                        NaN   \n",
       "2015-07-04                                        NaN   \n",
       "2015-07-05                                        NaN   \n",
       "\n",
       "Page        A'N'D_zh.wikipedia.org_all-access_spider  \\\n",
       "2015-07-01                                     118.0   \n",
       "2015-07-02                                      26.0   \n",
       "2015-07-03                                      30.0   \n",
       "2015-07-04                                      24.0   \n",
       "2015-07-05                                      29.0   \n",
       "\n",
       "Page        AKB48_zh.wikipedia.org_all-access_spider  \\\n",
       "2015-07-01                                       5.0   \n",
       "2015-07-02                                      23.0   \n",
       "2015-07-03                                      14.0   \n",
       "2015-07-04                                      12.0   \n",
       "2015-07-05                                       9.0   \n",
       "\n",
       "Page        ASCII_zh.wikipedia.org_all-access_spider  \\\n",
       "2015-07-01                                       6.0   \n",
       "2015-07-02                                       3.0   \n",
       "2015-07-03                                       5.0   \n",
       "2015-07-04                                      12.0   \n",
       "2015-07-05                                       6.0   \n",
       "\n",
       "Page                                                   ...                                              \\\n",
       "2015-07-01                                             ...                                               \n",
       "2015-07-02                                             ...                                               \n",
       "2015-07-03                                             ...                                               \n",
       "2015-07-04                                             ...                                               \n",
       "2015-07-05                                             ...                                               \n",
       "\n",
       "Page        Drake_(mÃºsico)_es.wikipedia.org_all-access_spider  \\\n",
       "2015-07-01                                                NaN    \n",
       "2015-07-02                                                NaN    \n",
       "2015-07-03                                                NaN    \n",
       "2015-07-04                                                NaN    \n",
       "2015-07-05                                                NaN    \n",
       "\n",
       "Page        Skam_(serie_de_televisiÃ³n)_es.wikipedia.org_all-access_spider  \\\n",
       "2015-07-01                                                NaN                \n",
       "2015-07-02                                                NaN                \n",
       "2015-07-03                                                NaN                \n",
       "2015-07-04                                                NaN                \n",
       "2015-07-05                                                NaN                \n",
       "\n",
       "Page        LegiÃ³n_(serie_de_televisiÃ³n)_es.wikipedia.org_all-access_spider  \\\n",
       "2015-07-01                                                NaN                   \n",
       "2015-07-02                                                NaN                   \n",
       "2015-07-03                                                NaN                   \n",
       "2015-07-04                                                NaN                   \n",
       "2015-07-05                                                NaN                   \n",
       "\n",
       "Page        Doble_tentaciÃ³n_es.wikipedia.org_all-access_spider  \\\n",
       "2015-07-01                                                NaN     \n",
       "2015-07-02                                                NaN     \n",
       "2015-07-03                                                NaN     \n",
       "2015-07-04                                                NaN     \n",
       "2015-07-05                                                NaN     \n",
       "\n",
       "Page        Mi_adorable_maldiciÃ³n_es.wikipedia.org_all-access_spider  \\\n",
       "2015-07-01                                                NaN           \n",
       "2015-07-02                                                NaN           \n",
       "2015-07-03                                                NaN           \n",
       "2015-07-04                                                NaN           \n",
       "2015-07-05                                                NaN           \n",
       "\n",
       "Page        Underworld_(serie_de_pelÃ­culas)_es.wikipedia.org_all-access_spider  \\\n",
       "2015-07-01                                                NaN                     \n",
       "2015-07-02                                                NaN                     \n",
       "2015-07-03                                                NaN                     \n",
       "2015-07-04                                                NaN                     \n",
       "2015-07-05                                                NaN                     \n",
       "\n",
       "Page        Resident_Evil:_CapÃ­tulo_Final_es.wikipedia.org_all-access_spider  \\\n",
       "2015-07-01                                                NaN                   \n",
       "2015-07-02                                                NaN                   \n",
       "2015-07-03                                                NaN                   \n",
       "2015-07-04                                                NaN                   \n",
       "2015-07-05                                                NaN                   \n",
       "\n",
       "Page        EnamorÃ¡ndome_de_RamÃ³n_es.wikipedia.org_all-access_spider  \\\n",
       "2015-07-01                                                NaN            \n",
       "2015-07-02                                                NaN            \n",
       "2015-07-03                                                NaN            \n",
       "2015-07-04                                                NaN            \n",
       "2015-07-05                                                NaN            \n",
       "\n",
       "Page        Hasta_el_Ãºltimo_hombre_es.wikipedia.org_all-access_spider  \\\n",
       "2015-07-01                                                NaN            \n",
       "2015-07-02                                                NaN            \n",
       "2015-07-03                                                NaN            \n",
       "2015-07-04                                                NaN            \n",
       "2015-07-05                                                NaN            \n",
       "\n",
       "Page        Francisco_el_matemÃ¡tico_(serie_de_televisiÃ³n_de_2017)_es.wikipedia.org_all-access_spider  \n",
       "2015-07-01                                                NaN                                           \n",
       "2015-07-02                                                NaN                                           \n",
       "2015-07-03                                                NaN                                           \n",
       "2015-07-04                                                NaN                                           \n",
       "2015-07-05                                                NaN                                           \n",
       "\n",
       "[5 rows x 145063 columns]"
      ]
     },
     "execution_count": 4,
     "metadata": {},
     "output_type": "execute_result"
    }
   ],
   "source": [
    "data = create_train()\n",
    "print(data.info())\n",
    "data.head()"
   ]
  },
  {
   "cell_type": "markdown",
   "metadata": {},
   "source": [
    "# Train / Test"
   ]
  },
  {
   "cell_type": "code",
   "execution_count": 5,
   "metadata": {
    "ExecuteTime": {
     "end_time": "2018-02-12T07:02:06.000149Z",
     "start_time": "2018-02-12T07:02:05.938183Z"
    }
   },
   "outputs": [
    {
     "name": "stdout",
     "output_type": "stream",
     "text": [
      "(733, 145063)\n",
      "(60, 145063)\n",
      "(793, 145063)\n"
     ]
    }
   ],
   "source": [
    "## Split in train / test to evaluate scoring \n",
    "train = data.iloc[:-60]\n",
    "test = data.iloc[-60:]\n",
    "print(train.shape)\n",
    "print(test.shape)\n",
    "print(data.shape)"
   ]
  },
  {
   "cell_type": "markdown",
   "metadata": {},
   "source": [
    "# Median model"
   ]
  },
  {
   "cell_type": "markdown",
   "metadata": {},
   "source": [
    "## Test\n",
    "\n",
    "Median model with several windows combination"
   ]
  },
  {
   "cell_type": "code",
   "execution_count": 6,
   "metadata": {
    "ExecuteTime": {
     "end_time": "2018-02-12T07:02:06.037386Z",
     "start_time": "2018-02-12T07:02:06.007057Z"
    },
    "collapsed": true
   },
   "outputs": [],
   "source": [
    "def add_is_weekend(df):\n",
    "    return df.assign(is_weekend=lambda x: x.index.dayofweek.isin([0, 1]))"
   ]
  },
  {
   "cell_type": "code",
   "execution_count": 7,
   "metadata": {
    "ExecuteTime": {
     "end_time": "2018-02-12T07:02:55.346185Z",
     "start_time": "2018-02-12T07:02:06.042008Z"
    }
   },
   "outputs": [
    {
     "name": "stdout",
     "output_type": "stream",
     "text": [
      "SMAPE is : \n",
      "39.733762183786276\n"
     ]
    }
   ],
   "source": [
    "from functools import reduce\n",
    "\n",
    "Windows = [6, 12, 18, 30, 48, 78, 126, 203, 329]\n",
    "train = add_is_weekend(train.iloc[-329:])\n",
    "median_model = []\n",
    "for x in reversed(Windows):\n",
    "    median_model.append(train.iloc[-x:].groupby(\"is_weekend\").median().stack())\n",
    "\n",
    "median_model = reduce(\n",
    "    lambda x, y: pd.merge(x, y, on=['is_weekend', \"Page\"], how=\"outer\"),\n",
    "    [x.reset_index()\n",
    "     for x in median_model]).set_index([\"is_weekend\", \"Page\"]).median(\n",
    "         axis=1).reset_index().rename(columns={0: \"Visits\"})\n",
    "\n",
    "median_model = pd.merge(\n",
    "    add_is_weekend(test).reset_index(drop=True).melt(\n",
    "        id_vars=\"is_weekend\").dropna(),\n",
    "    median_model,\n",
    "    on=[\"Page\", \"is_weekend\"],\n",
    "    how=\"outer\").fillna(0)\n",
    "\n",
    "print(\"SMAPE is : \")\n",
    "print(smape(y_pred=median_model.Visits, y_true=median_model.value))"
   ]
  },
  {
   "cell_type": "markdown",
   "metadata": {},
   "source": [
    "## Submission"
   ]
  },
  {
   "cell_type": "code",
   "execution_count": 8,
   "metadata": {
    "ExecuteTime": {
     "end_time": "2018-02-12T07:06:50.925275Z",
     "start_time": "2018-02-12T07:02:55.379181Z"
    }
   },
   "outputs": [
    {
     "data": {
      "text/html": [
       "<div>\n",
       "<style>\n",
       "    .dataframe thead tr:only-child th {\n",
       "        text-align: right;\n",
       "    }\n",
       "\n",
       "    .dataframe thead th {\n",
       "        text-align: left;\n",
       "    }\n",
       "\n",
       "    .dataframe tbody tr th {\n",
       "        vertical-align: top;\n",
       "    }\n",
       "</style>\n",
       "<table border=\"1\" class=\"dataframe\">\n",
       "  <thead>\n",
       "    <tr style=\"text-align: right;\">\n",
       "      <th></th>\n",
       "      <th>Id</th>\n",
       "      <th>Visits</th>\n",
       "    </tr>\n",
       "  </thead>\n",
       "  <tbody>\n",
       "    <tr>\n",
       "      <th>0</th>\n",
       "      <td>0b293039387a</td>\n",
       "      <td>535.0</td>\n",
       "    </tr>\n",
       "    <tr>\n",
       "      <th>1</th>\n",
       "      <td>7114389dd824</td>\n",
       "      <td>535.0</td>\n",
       "    </tr>\n",
       "    <tr>\n",
       "      <th>2</th>\n",
       "      <td>057b02ff1f09</td>\n",
       "      <td>535.0</td>\n",
       "    </tr>\n",
       "    <tr>\n",
       "      <th>3</th>\n",
       "      <td>bd2aca21caa3</td>\n",
       "      <td>535.0</td>\n",
       "    </tr>\n",
       "    <tr>\n",
       "      <th>4</th>\n",
       "      <td>c0effb42cdd5</td>\n",
       "      <td>535.0</td>\n",
       "    </tr>\n",
       "  </tbody>\n",
       "</table>\n",
       "</div>"
      ],
      "text/plain": [
       "             Id  Visits\n",
       "0  0b293039387a   535.0\n",
       "1  7114389dd824   535.0\n",
       "2  057b02ff1f09   535.0\n",
       "3  bd2aca21caa3   535.0\n",
       "4  c0effb42cdd5   535.0"
      ]
     },
     "execution_count": 8,
     "metadata": {},
     "output_type": "execute_result"
    }
   ],
   "source": [
    "df = add_is_weekend(data.iloc[-329:])\n",
    "median_model_submission = []\n",
    "for x in reversed(Windows):\n",
    "    median_model_submission.append(\n",
    "        df.iloc[-x:].groupby(\"is_weekend\").median().stack())\n",
    "\n",
    "median_model_submission = reduce(\n",
    "    lambda x, y: pd.merge(x, y, on=['is_weekend', \"Page\"], how=\"outer\"), [\n",
    "        x.reset_index() for x in median_model_submission\n",
    "    ]).set_index([\"is_weekend\", \"Page\"]).median(axis=1).reset_index().rename(\n",
    "        columns={0: \"Visits\"})\n",
    "\n",
    "df_test = create_test()\n",
    "df_test[\"is_weekend\"] = df_test.date.dt.dayofweek.isin([0, 1])\n",
    "\n",
    "df_submit = pd.merge(\n",
    "    df_test, median_model_submission, on=[\"Page\", \"is_weekend\"],\n",
    "    how=\"outer\")[[\"Id\", \"Visits\"]].fillna(0)\n",
    "df_submit.to_csv(\n",
    "    \"../data/submission/submission_median_weekend_multiple_windows.csv\", index=False)\n",
    "df_submit.head()"
   ]
  }
 ],
 "metadata": {
  "kernelspec": {
   "display_name": "Python [default]",
   "language": "python",
   "name": "python3"
  },
  "language_info": {
   "codemirror_mode": {
    "name": "ipython",
    "version": 3
   },
   "file_extension": ".py",
   "mimetype": "text/x-python",
   "name": "python",
   "nbconvert_exporter": "python",
   "pygments_lexer": "ipython3",
   "version": "3.6.3"
  },
  "toc": {
   "colors": {
    "hover_highlight": "#DAA520",
    "running_highlight": "#FF0000",
    "selected_highlight": "#FFD700"
   },
   "moveMenuLeft": true,
   "nav_menu": {
    "height": "242px",
    "width": "252px"
   },
   "navigate_menu": true,
   "number_sections": true,
   "sideBar": true,
   "threshold": 4,
   "toc_cell": false,
   "toc_section_display": "block",
   "toc_window_display": true,
   "widenNotebook": false
  }
 },
 "nbformat": 4,
 "nbformat_minor": 2
}
