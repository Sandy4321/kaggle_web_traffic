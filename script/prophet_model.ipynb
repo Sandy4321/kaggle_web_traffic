{
 "cells": [
  {
   "cell_type": "markdown",
   "metadata": {},
   "source": [
    "# Library"
   ]
  },
  {
   "cell_type": "code",
   "execution_count": null,
   "metadata": {
    "ExecuteTime": {
     "end_time": "2018-02-11T20:05:02.626211Z",
     "start_time": "2018-02-11T20:04:59.974549Z"
    }
   },
   "outputs": [],
   "source": [
    "import pandas as pd\n",
    "import numpy as np\n",
    "import re\n",
    "import pickle\n",
    "import os\n",
    "\n",
    "import matplotlib\n",
    "import matplotlib.pyplot as plt\n",
    "%matplotlib inline\n",
    "\n",
    "from fbprophet import Prophet\n",
    "from joblib import Parallel, delayed\n",
    "import multiprocessing"
   ]
  },
  {
   "cell_type": "code",
   "execution_count": null,
   "metadata": {
    "ExecuteTime": {
     "end_time": "2018-02-11T20:05:02.637487Z",
     "start_time": "2018-02-11T20:05:02.628930Z"
    }
   },
   "outputs": [],
   "source": [
    "def temp_func(func, name, group):\n",
    "    return func(group), name\n",
    "\n",
    "\n",
    "def applyParallel(dfGrouped, func):\n",
    "    retLst, top_index = zip(\n",
    "        *Parallel(n_jobs=multiprocessing.cpu_count()-1)(delayed(temp_func)(\n",
    "            func, name, group) for name, group in dfGrouped))\n",
    "    return pd.concat(retLst, keys=top_index)"
   ]
  },
  {
   "cell_type": "markdown",
   "metadata": {},
   "source": [
    "# Scoring functions"
   ]
  },
  {
   "cell_type": "code",
   "execution_count": null,
   "metadata": {
    "ExecuteTime": {
     "end_time": "2018-02-11T20:05:02.655172Z",
     "start_time": "2018-02-11T20:05:02.641602Z"
    }
   },
   "outputs": [],
   "source": [
    "def smape(y_true, y_pred):\n",
    "    \"\"\"\n",
    "    Scoring function\n",
    "    \"\"\"\n",
    "    denominator = (np.abs(y_true) + np.abs(y_pred)) / 2.0\n",
    "    diff = np.abs(y_true - y_pred) / denominator\n",
    "    diff[denominator == 0] = 0.0\n",
    "    return 100 * np.mean(diff)\n",
    "\n",
    "\n",
    "def smape_serie(x):\n",
    "    \"\"\"\n",
    "    Scoring function on serie\n",
    "    \"\"\"\n",
    "    return smape(y_pred=x.Visits, y_true=x.value)\n"
   ]
  },
  {
   "cell_type": "markdown",
   "metadata": {},
   "source": [
    "# Helping functions"
   ]
  },
  {
   "cell_type": "code",
   "execution_count": null,
   "metadata": {
    "ExecuteTime": {
     "end_time": "2018-02-11T20:05:02.692906Z",
     "start_time": "2018-02-11T20:05:02.658580Z"
    }
   },
   "outputs": [],
   "source": [
    "def create_train():\n",
    "    if os.path.isfile(\"../data/work/train.pickle\"):\n",
    "        data = pd.read_pickle(\"../data/work/train.pickle\")\n",
    "    else:\n",
    "        data = pd.read_csv('../data/input/train_2.csv')\n",
    "        cols = data.columns[data.columns.str.contains(\"-\")].tolist()\n",
    "        data[\"Page\"] = data[\"Page\"].astype(str)\n",
    "        data = data.set_index(\"Page\").T\n",
    "        data.index = pd.to_datetime(data.index, format=\"%Y-%m-%d\")\n",
    "        data.to_pickle(\"../data/work/train.pickle\")\n",
    "    return data\n",
    "\n",
    "\n",
    "def create_test():\n",
    "    if os.path.isfile(\"../data/work/test.pickle\"):\n",
    "        df_test = pd.read_pickle(\"../data/work/test.pickle\")\n",
    "    else:\n",
    "        df_test = pd.read_csv(\"../data/input/key_2.csv\")\n",
    "        df_test['date'] = df_test.Page.apply(lambda a: a[-10:])\n",
    "        df_test['Page'] = df_test.Page.apply(lambda a: a[:-11])\n",
    "        df_test['date'] = pd.to_datetime(df_test['date'], format=\"%Y-%m-%d\")\n",
    "        df_test.to_pickle(\"../data/work/test.pickle\")\n",
    "    return df_test"
   ]
  },
  {
   "cell_type": "markdown",
   "metadata": {},
   "source": [
    "# Read data"
   ]
  },
  {
   "cell_type": "code",
   "execution_count": null,
   "metadata": {
    "ExecuteTime": {
     "end_time": "2018-02-11T20:05:16.182101Z",
     "start_time": "2018-02-11T20:05:02.695087Z"
    },
    "code_folding": []
   },
   "outputs": [],
   "source": [
    "data = create_train()\n",
    "print(data.info())\n",
    "data.head()"
   ]
  },
  {
   "cell_type": "markdown",
   "metadata": {},
   "source": [
    "# Train / Test"
   ]
  },
  {
   "cell_type": "code",
   "execution_count": null,
   "metadata": {
    "ExecuteTime": {
     "end_time": "2018-02-11T20:05:16.221589Z",
     "start_time": "2018-02-11T20:05:16.190086Z"
    }
   },
   "outputs": [],
   "source": [
    "## Split in train / test to evaluate scoring \n",
    "train = data.iloc[:-60]\n",
    "test = data.iloc[-60:]\n",
    "print(train.shape)\n",
    "print(test.shape)\n",
    "print(data.shape)"
   ]
  },
  {
   "cell_type": "markdown",
   "metadata": {},
   "source": [
    "# Prophet"
   ]
  },
  {
   "cell_type": "code",
   "execution_count": null,
   "metadata": {
    "ExecuteTime": {
     "end_time": "2018-02-11T20:05:16.237152Z",
     "start_time": "2018-02-11T20:05:16.225559Z"
    }
   },
   "outputs": [],
   "source": [
    "def prophet_forecast(df):\n",
    "    return Prophet(\n",
    "        yearly_seasonality=False,\n",
    "        daily_seasonality=False,\n",
    "        weekly_seasonality=\"auto\",\n",
    "        seasonality_prior_scale=5,\n",
    "        changepoint_prior_scale=0.5).fit(df.dropna()).predict(df_predict)[[\n",
    "            \"ds\", \"yhat\"\n",
    "        ]]"
   ]
  },
  {
   "cell_type": "markdown",
   "metadata": {},
   "source": [
    "## Test"
   ]
  },
  {
   "cell_type": "code",
   "execution_count": null,
   "metadata": {
    "ExecuteTime": {
     "end_time": "2018-02-11T20:05:16.262513Z",
     "start_time": "2018-02-11T20:05:16.242532Z"
    }
   },
   "outputs": [],
   "source": [
    "df_predict = pd.DataFrame({\"ds\": test.index})\n",
    "df_predict.head()"
   ]
  },
  {
   "cell_type": "code",
   "execution_count": null,
   "metadata": {
    "ExecuteTime": {
     "end_time": "2018-02-11T20:05:16.310216Z",
     "start_time": "2018-02-11T20:05:16.267401Z"
    }
   },
   "outputs": [],
   "source": [
    "page_sample = train.columns[np.random.randint(0, len(train.columns), 10)]\n",
    "\n",
    "train_sample = train[page_sample].reset_index().rename(\n",
    "    columns={\"index\": \"ds\"}).melt(id_vars=\"ds\").rename(columns={\"value\":\n",
    "                                                                \"y\"}).dropna()\n",
    "test_sample = test[page_sample]\n",
    "\n",
    "train_sample.head()"
   ]
  },
  {
   "cell_type": "code",
   "execution_count": null,
   "metadata": {
    "ExecuteTime": {
     "end_time": "2018-02-11T20:05:30.062546Z",
     "start_time": "2018-02-11T20:05:16.314694Z"
    }
   },
   "outputs": [],
   "source": [
    "forecast = applyParallel(train_sample.groupby(\"Page\"),\n",
    "                         prophet_forecast).reset_index().rename(\n",
    "                             columns={\"level_0\": \"Page\"}).drop(\n",
    "                                 \"level_1\", axis=1)\n",
    "forecast.head()"
   ]
  },
  {
   "cell_type": "code",
   "execution_count": null,
   "metadata": {
    "ExecuteTime": {
     "end_time": "2018-02-11T20:05:30.099272Z",
     "start_time": "2018-02-11T20:05:30.066551Z"
    }
   },
   "outputs": [],
   "source": [
    "forecast = pd.merge(\n",
    "    test_sample.reset_index().rename(columns={\"index\": \"ds\"}).melt(\n",
    "        id_vars=\"ds\"),\n",
    "    forecast,\n",
    "    on=[\"ds\", \"Page\"],\n",
    "    how=\"inner\")\n",
    "forecast.head()"
   ]
  },
  {
   "cell_type": "code",
   "execution_count": null,
   "metadata": {
    "ExecuteTime": {
     "end_time": "2018-02-11T20:05:30.122659Z",
     "start_time": "2018-02-11T20:05:30.104094Z"
    }
   },
   "outputs": [],
   "source": [
    "print(\"SMAPE is : \")\n",
    "print(smape(y_pred=forecast[\"value\"], y_true=forecast[\"yhat\"]))"
   ]
  }
 ],
 "metadata": {
  "kernelspec": {
   "display_name": "Python [default]",
   "language": "python",
   "name": "python3"
  },
  "language_info": {
   "codemirror_mode": {
    "name": "ipython",
    "version": 3
   },
   "file_extension": ".py",
   "mimetype": "text/x-python",
   "name": "python",
   "nbconvert_exporter": "python",
   "pygments_lexer": "ipython3",
   "version": "3.6.3"
  },
  "toc": {
   "colors": {
    "hover_highlight": "#DAA520",
    "running_highlight": "#FF0000",
    "selected_highlight": "#FFD700"
   },
   "moveMenuLeft": true,
   "nav_menu": {
    "height": "242px",
    "width": "252px"
   },
   "navigate_menu": true,
   "number_sections": true,
   "sideBar": true,
   "threshold": 4,
   "toc_cell": false,
   "toc_section_display": "block",
   "toc_window_display": true,
   "widenNotebook": false
  }
 },
 "nbformat": 4,
 "nbformat_minor": 2
}
