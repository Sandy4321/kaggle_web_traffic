{
 "cells": [
  {
   "cell_type": "markdown",
   "metadata": {},
   "source": [
    "# Library"
   ]
  },
  {
   "cell_type": "code",
   "execution_count": 1,
   "metadata": {
    "ExecuteTime": {
     "end_time": "2018-02-12T07:01:43.800324Z",
     "start_time": "2018-02-12T07:01:35.023264Z"
    },
    "collapsed": true
   },
   "outputs": [],
   "source": [
    "import pandas as pd\n",
    "import numpy as np\n",
    "import re\n",
    "import pickle\n",
    "import os\n",
    "\n",
    "import matplotlib\n",
    "import matplotlib.pyplot as plt\n",
    "%matplotlib inline\n",
    "\n",
    "from fbprophet import Prophet\n",
    "from joblib import Parallel, delayed\n",
    "import multiprocessing"
   ]
  },
  {
   "cell_type": "code",
   "execution_count": 2,
   "metadata": {
    "ExecuteTime": {
     "end_time": "2018-02-12T07:01:43.940355Z",
     "start_time": "2018-02-12T07:01:43.826631Z"
    },
    "collapsed": true
   },
   "outputs": [],
   "source": [
    "def temp_func(func, name, group):\n",
    "    return func(group), name\n",
    "\n",
    "\n",
    "def applyParallel(dfGrouped, func):\n",
    "    retLst, top_index = zip(\n",
    "        *Parallel(n_jobs=multiprocessing.cpu_count()-1)(delayed(temp_func)(\n",
    "            func, name, group) for name, group in dfGrouped))\n",
    "    return pd.concat(retLst, keys=top_index)"
   ]
  },
  {
   "cell_type": "markdown",
   "metadata": {},
   "source": [
    "# Scoring functions"
   ]
  },
  {
   "cell_type": "code",
   "execution_count": 3,
   "metadata": {
    "ExecuteTime": {
     "end_time": "2018-02-12T07:01:43.991292Z",
     "start_time": "2018-02-12T07:01:43.944508Z"
    },
    "collapsed": true
   },
   "outputs": [],
   "source": [
    "def smape(y_true, y_pred):\n",
    "    \"\"\"\n",
    "    Scoring function\n",
    "    \"\"\"\n",
    "    denominator = (np.abs(y_true) + np.abs(y_pred)) / 2.0\n",
    "    diff = np.abs(y_true - y_pred) / denominator\n",
    "    diff[denominator == 0] = 0.0\n",
    "    return 100 * np.mean(diff)\n",
    "\n",
    "\n",
    "def smape_serie(x):\n",
    "    \"\"\"\n",
    "    Scoring function on serie\n",
    "    \"\"\"\n",
    "    return smape(y_pred=x.Visits, y_true=x.value)\n"
   ]
  },
  {
   "cell_type": "markdown",
   "metadata": {},
   "source": [
    "# Helping functions"
   ]
  },
  {
   "cell_type": "code",
   "execution_count": 4,
   "metadata": {
    "ExecuteTime": {
     "end_time": "2018-02-12T07:01:44.177970Z",
     "start_time": "2018-02-12T07:01:44.016295Z"
    },
    "collapsed": true
   },
   "outputs": [],
   "source": [
    "def create_train():\n",
    "    if os.path.isfile(\"../data/work/train.pickle\"):\n",
    "        data = pd.read_pickle(\"../data/work/train.pickle\")\n",
    "    else:\n",
    "        data = pd.read_csv('../data/input/train_2.csv')\n",
    "        cols = data.columns[data.columns.str.contains(\"-\")].tolist()\n",
    "        data[\"Page\"] = data[\"Page\"].astype(str)\n",
    "        data = data.set_index(\"Page\").T\n",
    "        data.index = pd.to_datetime(data.index, format=\"%Y-%m-%d\")\n",
    "        data.to_pickle(\"../data/work/train.pickle\")\n",
    "    return data\n",
    "\n",
    "\n",
    "def create_test():\n",
    "    if os.path.isfile(\"../data/work/test.pickle\"):\n",
    "        df_test = pd.read_pickle(\"../data/work/test.pickle\")\n",
    "    else:\n",
    "        df_test = pd.read_csv(\"../data/input/key_2.csv\")\n",
    "        df_test['date'] = df_test.Page.apply(lambda a: a[-10:])\n",
    "        df_test['Page'] = df_test.Page.apply(lambda a: a[:-11])\n",
    "        df_test['date'] = pd.to_datetime(df_test['date'], format=\"%Y-%m-%d\")\n",
    "        df_test.to_pickle(\"../data/work/test.pickle\")\n",
    "    return df_test"
   ]
  },
  {
   "cell_type": "markdown",
   "metadata": {},
   "source": [
    "# Read data"
   ]
  },
  {
   "cell_type": "code",
   "execution_count": 5,
   "metadata": {
    "ExecuteTime": {
     "end_time": "2018-02-12T07:02:14.450286Z",
     "start_time": "2018-02-12T07:01:44.184551Z"
    },
    "code_folding": []
   },
   "outputs": [
    {
     "name": "stdout",
     "output_type": "stream",
     "text": [
      "<class 'pandas.core.frame.DataFrame'>\n",
      "DatetimeIndex: 793 entries, 2015-07-01 to 2017-08-31\n",
      "Columns: 145063 entries, 2NE1_zh.wikipedia.org_all-access_spider to Francisco_el_matemÃ¡tico_(serie_de_televisiÃ³n_de_2017)_es.wikipedia.org_all-access_spider\n",
      "dtypes: float64(145063)\n",
      "memory usage: 877.7 MB\n",
      "None\n"
     ]
    },
    {
     "data": {
      "text/html": [
       "<div>\n",
       "<style>\n",
       "    .dataframe thead tr:only-child th {\n",
       "        text-align: right;\n",
       "    }\n",
       "\n",
       "    .dataframe thead th {\n",
       "        text-align: left;\n",
       "    }\n",
       "\n",
       "    .dataframe tbody tr th {\n",
       "        vertical-align: top;\n",
       "    }\n",
       "</style>\n",
       "<table border=\"1\" class=\"dataframe\">\n",
       "  <thead>\n",
       "    <tr style=\"text-align: right;\">\n",
       "      <th>Page</th>\n",
       "      <th>2NE1_zh.wikipedia.org_all-access_spider</th>\n",
       "      <th>2PM_zh.wikipedia.org_all-access_spider</th>\n",
       "      <th>3C_zh.wikipedia.org_all-access_spider</th>\n",
       "      <th>4minute_zh.wikipedia.org_all-access_spider</th>\n",
       "      <th>52_Hz_I_Love_You_zh.wikipedia.org_all-access_spider</th>\n",
       "      <th>5566_zh.wikipedia.org_all-access_spider</th>\n",
       "      <th>91Days_zh.wikipedia.org_all-access_spider</th>\n",
       "      <th>A'N'D_zh.wikipedia.org_all-access_spider</th>\n",
       "      <th>AKB48_zh.wikipedia.org_all-access_spider</th>\n",
       "      <th>ASCII_zh.wikipedia.org_all-access_spider</th>\n",
       "      <th>...</th>\n",
       "      <th>Drake_(mÃºsico)_es.wikipedia.org_all-access_spider</th>\n",
       "      <th>Skam_(serie_de_televisiÃ³n)_es.wikipedia.org_all-access_spider</th>\n",
       "      <th>LegiÃ³n_(serie_de_televisiÃ³n)_es.wikipedia.org_all-access_spider</th>\n",
       "      <th>Doble_tentaciÃ³n_es.wikipedia.org_all-access_spider</th>\n",
       "      <th>Mi_adorable_maldiciÃ³n_es.wikipedia.org_all-access_spider</th>\n",
       "      <th>Underworld_(serie_de_pelÃ­culas)_es.wikipedia.org_all-access_spider</th>\n",
       "      <th>Resident_Evil:_CapÃ­tulo_Final_es.wikipedia.org_all-access_spider</th>\n",
       "      <th>EnamorÃ¡ndome_de_RamÃ³n_es.wikipedia.org_all-access_spider</th>\n",
       "      <th>Hasta_el_Ãºltimo_hombre_es.wikipedia.org_all-access_spider</th>\n",
       "      <th>Francisco_el_matemÃ¡tico_(serie_de_televisiÃ³n_de_2017)_es.wikipedia.org_all-access_spider</th>\n",
       "    </tr>\n",
       "  </thead>\n",
       "  <tbody>\n",
       "    <tr>\n",
       "      <th>2015-07-01</th>\n",
       "      <td>18.0</td>\n",
       "      <td>11.0</td>\n",
       "      <td>1.0</td>\n",
       "      <td>35.0</td>\n",
       "      <td>NaN</td>\n",
       "      <td>12.0</td>\n",
       "      <td>NaN</td>\n",
       "      <td>118.0</td>\n",
       "      <td>5.0</td>\n",
       "      <td>6.0</td>\n",
       "      <td>...</td>\n",
       "      <td>NaN</td>\n",
       "      <td>NaN</td>\n",
       "      <td>NaN</td>\n",
       "      <td>NaN</td>\n",
       "      <td>NaN</td>\n",
       "      <td>NaN</td>\n",
       "      <td>NaN</td>\n",
       "      <td>NaN</td>\n",
       "      <td>NaN</td>\n",
       "      <td>NaN</td>\n",
       "    </tr>\n",
       "    <tr>\n",
       "      <th>2015-07-02</th>\n",
       "      <td>11.0</td>\n",
       "      <td>14.0</td>\n",
       "      <td>0.0</td>\n",
       "      <td>13.0</td>\n",
       "      <td>NaN</td>\n",
       "      <td>7.0</td>\n",
       "      <td>NaN</td>\n",
       "      <td>26.0</td>\n",
       "      <td>23.0</td>\n",
       "      <td>3.0</td>\n",
       "      <td>...</td>\n",
       "      <td>NaN</td>\n",
       "      <td>NaN</td>\n",
       "      <td>NaN</td>\n",
       "      <td>NaN</td>\n",
       "      <td>NaN</td>\n",
       "      <td>NaN</td>\n",
       "      <td>NaN</td>\n",
       "      <td>NaN</td>\n",
       "      <td>NaN</td>\n",
       "      <td>NaN</td>\n",
       "    </tr>\n",
       "    <tr>\n",
       "      <th>2015-07-03</th>\n",
       "      <td>5.0</td>\n",
       "      <td>15.0</td>\n",
       "      <td>1.0</td>\n",
       "      <td>10.0</td>\n",
       "      <td>NaN</td>\n",
       "      <td>4.0</td>\n",
       "      <td>NaN</td>\n",
       "      <td>30.0</td>\n",
       "      <td>14.0</td>\n",
       "      <td>5.0</td>\n",
       "      <td>...</td>\n",
       "      <td>NaN</td>\n",
       "      <td>NaN</td>\n",
       "      <td>NaN</td>\n",
       "      <td>NaN</td>\n",
       "      <td>NaN</td>\n",
       "      <td>NaN</td>\n",
       "      <td>NaN</td>\n",
       "      <td>NaN</td>\n",
       "      <td>NaN</td>\n",
       "      <td>NaN</td>\n",
       "    </tr>\n",
       "    <tr>\n",
       "      <th>2015-07-04</th>\n",
       "      <td>13.0</td>\n",
       "      <td>18.0</td>\n",
       "      <td>1.0</td>\n",
       "      <td>94.0</td>\n",
       "      <td>NaN</td>\n",
       "      <td>5.0</td>\n",
       "      <td>NaN</td>\n",
       "      <td>24.0</td>\n",
       "      <td>12.0</td>\n",
       "      <td>12.0</td>\n",
       "      <td>...</td>\n",
       "      <td>NaN</td>\n",
       "      <td>NaN</td>\n",
       "      <td>NaN</td>\n",
       "      <td>NaN</td>\n",
       "      <td>NaN</td>\n",
       "      <td>NaN</td>\n",
       "      <td>NaN</td>\n",
       "      <td>NaN</td>\n",
       "      <td>NaN</td>\n",
       "      <td>NaN</td>\n",
       "    </tr>\n",
       "    <tr>\n",
       "      <th>2015-07-05</th>\n",
       "      <td>14.0</td>\n",
       "      <td>11.0</td>\n",
       "      <td>0.0</td>\n",
       "      <td>4.0</td>\n",
       "      <td>NaN</td>\n",
       "      <td>20.0</td>\n",
       "      <td>NaN</td>\n",
       "      <td>29.0</td>\n",
       "      <td>9.0</td>\n",
       "      <td>6.0</td>\n",
       "      <td>...</td>\n",
       "      <td>NaN</td>\n",
       "      <td>NaN</td>\n",
       "      <td>NaN</td>\n",
       "      <td>NaN</td>\n",
       "      <td>NaN</td>\n",
       "      <td>NaN</td>\n",
       "      <td>NaN</td>\n",
       "      <td>NaN</td>\n",
       "      <td>NaN</td>\n",
       "      <td>NaN</td>\n",
       "    </tr>\n",
       "  </tbody>\n",
       "</table>\n",
       "<p>5 rows × 145063 columns</p>\n",
       "</div>"
      ],
      "text/plain": [
       "Page        2NE1_zh.wikipedia.org_all-access_spider  \\\n",
       "2015-07-01                                     18.0   \n",
       "2015-07-02                                     11.0   \n",
       "2015-07-03                                      5.0   \n",
       "2015-07-04                                     13.0   \n",
       "2015-07-05                                     14.0   \n",
       "\n",
       "Page        2PM_zh.wikipedia.org_all-access_spider  \\\n",
       "2015-07-01                                    11.0   \n",
       "2015-07-02                                    14.0   \n",
       "2015-07-03                                    15.0   \n",
       "2015-07-04                                    18.0   \n",
       "2015-07-05                                    11.0   \n",
       "\n",
       "Page        3C_zh.wikipedia.org_all-access_spider  \\\n",
       "2015-07-01                                    1.0   \n",
       "2015-07-02                                    0.0   \n",
       "2015-07-03                                    1.0   \n",
       "2015-07-04                                    1.0   \n",
       "2015-07-05                                    0.0   \n",
       "\n",
       "Page        4minute_zh.wikipedia.org_all-access_spider  \\\n",
       "2015-07-01                                        35.0   \n",
       "2015-07-02                                        13.0   \n",
       "2015-07-03                                        10.0   \n",
       "2015-07-04                                        94.0   \n",
       "2015-07-05                                         4.0   \n",
       "\n",
       "Page        52_Hz_I_Love_You_zh.wikipedia.org_all-access_spider  \\\n",
       "2015-07-01                                                NaN     \n",
       "2015-07-02                                                NaN     \n",
       "2015-07-03                                                NaN     \n",
       "2015-07-04                                                NaN     \n",
       "2015-07-05                                                NaN     \n",
       "\n",
       "Page        5566_zh.wikipedia.org_all-access_spider  \\\n",
       "2015-07-01                                     12.0   \n",
       "2015-07-02                                      7.0   \n",
       "2015-07-03                                      4.0   \n",
       "2015-07-04                                      5.0   \n",
       "2015-07-05                                     20.0   \n",
       "\n",
       "Page        91Days_zh.wikipedia.org_all-access_spider  \\\n",
       "2015-07-01                                        NaN   \n",
       "2015-07-02                                        NaN   \n",
       "2015-07-03                                        NaN   \n",
       "2015-07-04                                        NaN   \n",
       "2015-07-05                                        NaN   \n",
       "\n",
       "Page        A'N'D_zh.wikipedia.org_all-access_spider  \\\n",
       "2015-07-01                                     118.0   \n",
       "2015-07-02                                      26.0   \n",
       "2015-07-03                                      30.0   \n",
       "2015-07-04                                      24.0   \n",
       "2015-07-05                                      29.0   \n",
       "\n",
       "Page        AKB48_zh.wikipedia.org_all-access_spider  \\\n",
       "2015-07-01                                       5.0   \n",
       "2015-07-02                                      23.0   \n",
       "2015-07-03                                      14.0   \n",
       "2015-07-04                                      12.0   \n",
       "2015-07-05                                       9.0   \n",
       "\n",
       "Page        ASCII_zh.wikipedia.org_all-access_spider  \\\n",
       "2015-07-01                                       6.0   \n",
       "2015-07-02                                       3.0   \n",
       "2015-07-03                                       5.0   \n",
       "2015-07-04                                      12.0   \n",
       "2015-07-05                                       6.0   \n",
       "\n",
       "Page                                                   ...                                              \\\n",
       "2015-07-01                                             ...                                               \n",
       "2015-07-02                                             ...                                               \n",
       "2015-07-03                                             ...                                               \n",
       "2015-07-04                                             ...                                               \n",
       "2015-07-05                                             ...                                               \n",
       "\n",
       "Page        Drake_(mÃºsico)_es.wikipedia.org_all-access_spider  \\\n",
       "2015-07-01                                                NaN    \n",
       "2015-07-02                                                NaN    \n",
       "2015-07-03                                                NaN    \n",
       "2015-07-04                                                NaN    \n",
       "2015-07-05                                                NaN    \n",
       "\n",
       "Page        Skam_(serie_de_televisiÃ³n)_es.wikipedia.org_all-access_spider  \\\n",
       "2015-07-01                                                NaN                \n",
       "2015-07-02                                                NaN                \n",
       "2015-07-03                                                NaN                \n",
       "2015-07-04                                                NaN                \n",
       "2015-07-05                                                NaN                \n",
       "\n",
       "Page        LegiÃ³n_(serie_de_televisiÃ³n)_es.wikipedia.org_all-access_spider  \\\n",
       "2015-07-01                                                NaN                   \n",
       "2015-07-02                                                NaN                   \n",
       "2015-07-03                                                NaN                   \n",
       "2015-07-04                                                NaN                   \n",
       "2015-07-05                                                NaN                   \n",
       "\n",
       "Page        Doble_tentaciÃ³n_es.wikipedia.org_all-access_spider  \\\n",
       "2015-07-01                                                NaN     \n",
       "2015-07-02                                                NaN     \n",
       "2015-07-03                                                NaN     \n",
       "2015-07-04                                                NaN     \n",
       "2015-07-05                                                NaN     \n",
       "\n",
       "Page        Mi_adorable_maldiciÃ³n_es.wikipedia.org_all-access_spider  \\\n",
       "2015-07-01                                                NaN           \n",
       "2015-07-02                                                NaN           \n",
       "2015-07-03                                                NaN           \n",
       "2015-07-04                                                NaN           \n",
       "2015-07-05                                                NaN           \n",
       "\n",
       "Page        Underworld_(serie_de_pelÃ­culas)_es.wikipedia.org_all-access_spider  \\\n",
       "2015-07-01                                                NaN                     \n",
       "2015-07-02                                                NaN                     \n",
       "2015-07-03                                                NaN                     \n",
       "2015-07-04                                                NaN                     \n",
       "2015-07-05                                                NaN                     \n",
       "\n",
       "Page        Resident_Evil:_CapÃ­tulo_Final_es.wikipedia.org_all-access_spider  \\\n",
       "2015-07-01                                                NaN                   \n",
       "2015-07-02                                                NaN                   \n",
       "2015-07-03                                                NaN                   \n",
       "2015-07-04                                                NaN                   \n",
       "2015-07-05                                                NaN                   \n",
       "\n",
       "Page        EnamorÃ¡ndome_de_RamÃ³n_es.wikipedia.org_all-access_spider  \\\n",
       "2015-07-01                                                NaN            \n",
       "2015-07-02                                                NaN            \n",
       "2015-07-03                                                NaN            \n",
       "2015-07-04                                                NaN            \n",
       "2015-07-05                                                NaN            \n",
       "\n",
       "Page        Hasta_el_Ãºltimo_hombre_es.wikipedia.org_all-access_spider  \\\n",
       "2015-07-01                                                NaN            \n",
       "2015-07-02                                                NaN            \n",
       "2015-07-03                                                NaN            \n",
       "2015-07-04                                                NaN            \n",
       "2015-07-05                                                NaN            \n",
       "\n",
       "Page        Francisco_el_matemÃ¡tico_(serie_de_televisiÃ³n_de_2017)_es.wikipedia.org_all-access_spider  \n",
       "2015-07-01                                                NaN                                           \n",
       "2015-07-02                                                NaN                                           \n",
       "2015-07-03                                                NaN                                           \n",
       "2015-07-04                                                NaN                                           \n",
       "2015-07-05                                                NaN                                           \n",
       "\n",
       "[5 rows x 145063 columns]"
      ]
     },
     "execution_count": 5,
     "metadata": {},
     "output_type": "execute_result"
    }
   ],
   "source": [
    "data = create_train()\n",
    "print(data.info())\n",
    "data.head()"
   ]
  },
  {
   "cell_type": "markdown",
   "metadata": {},
   "source": [
    "# Train / Test"
   ]
  },
  {
   "cell_type": "code",
   "execution_count": 6,
   "metadata": {
    "ExecuteTime": {
     "end_time": "2018-02-12T07:02:14.517317Z",
     "start_time": "2018-02-12T07:02:14.460456Z"
    }
   },
   "outputs": [
    {
     "name": "stdout",
     "output_type": "stream",
     "text": [
      "(733, 145063)\n",
      "(60, 145063)\n",
      "(793, 145063)\n"
     ]
    }
   ],
   "source": [
    "## Split in train / test to evaluate scoring \n",
    "train = data.iloc[:-60]\n",
    "test = data.iloc[-60:]\n",
    "print(train.shape)\n",
    "print(test.shape)\n",
    "print(data.shape)"
   ]
  },
  {
   "cell_type": "markdown",
   "metadata": {},
   "source": [
    "# Prophet"
   ]
  },
  {
   "cell_type": "code",
   "execution_count": 7,
   "metadata": {
    "ExecuteTime": {
     "end_time": "2018-02-12T07:02:14.535393Z",
     "start_time": "2018-02-12T07:02:14.524821Z"
    },
    "collapsed": true
   },
   "outputs": [],
   "source": [
    "def prophet_forecast(df):\n",
    "    return Prophet(\n",
    "        yearly_seasonality=False,\n",
    "        daily_seasonality=False,\n",
    "        weekly_seasonality=\"auto\",\n",
    "        seasonality_prior_scale=5,\n",
    "        changepoint_prior_scale=0.5).fit(df.dropna()).predict(df_predict)[[\n",
    "            \"ds\", \"yhat\"\n",
    "        ]]"
   ]
  },
  {
   "cell_type": "markdown",
   "metadata": {},
   "source": [
    "## Test"
   ]
  },
  {
   "cell_type": "code",
   "execution_count": 8,
   "metadata": {
    "ExecuteTime": {
     "end_time": "2018-02-12T07:02:14.556574Z",
     "start_time": "2018-02-12T07:02:14.539024Z"
    }
   },
   "outputs": [
    {
     "data": {
      "text/html": [
       "<div>\n",
       "<style>\n",
       "    .dataframe thead tr:only-child th {\n",
       "        text-align: right;\n",
       "    }\n",
       "\n",
       "    .dataframe thead th {\n",
       "        text-align: left;\n",
       "    }\n",
       "\n",
       "    .dataframe tbody tr th {\n",
       "        vertical-align: top;\n",
       "    }\n",
       "</style>\n",
       "<table border=\"1\" class=\"dataframe\">\n",
       "  <thead>\n",
       "    <tr style=\"text-align: right;\">\n",
       "      <th></th>\n",
       "      <th>ds</th>\n",
       "    </tr>\n",
       "  </thead>\n",
       "  <tbody>\n",
       "    <tr>\n",
       "      <th>0</th>\n",
       "      <td>2017-07-03</td>\n",
       "    </tr>\n",
       "    <tr>\n",
       "      <th>1</th>\n",
       "      <td>2017-07-04</td>\n",
       "    </tr>\n",
       "    <tr>\n",
       "      <th>2</th>\n",
       "      <td>2017-07-05</td>\n",
       "    </tr>\n",
       "    <tr>\n",
       "      <th>3</th>\n",
       "      <td>2017-07-06</td>\n",
       "    </tr>\n",
       "    <tr>\n",
       "      <th>4</th>\n",
       "      <td>2017-07-07</td>\n",
       "    </tr>\n",
       "  </tbody>\n",
       "</table>\n",
       "</div>"
      ],
      "text/plain": [
       "          ds\n",
       "0 2017-07-03\n",
       "1 2017-07-04\n",
       "2 2017-07-05\n",
       "3 2017-07-06\n",
       "4 2017-07-07"
      ]
     },
     "execution_count": 8,
     "metadata": {},
     "output_type": "execute_result"
    }
   ],
   "source": [
    "df_predict = pd.DataFrame({\"ds\": test.index})\n",
    "df_predict.head()"
   ]
  },
  {
   "cell_type": "code",
   "execution_count": 9,
   "metadata": {
    "ExecuteTime": {
     "end_time": "2018-02-12T07:02:14.614559Z",
     "start_time": "2018-02-12T07:02:14.560630Z"
    }
   },
   "outputs": [
    {
     "data": {
      "text/html": [
       "<div>\n",
       "<style>\n",
       "    .dataframe thead tr:only-child th {\n",
       "        text-align: right;\n",
       "    }\n",
       "\n",
       "    .dataframe thead th {\n",
       "        text-align: left;\n",
       "    }\n",
       "\n",
       "    .dataframe tbody tr th {\n",
       "        vertical-align: top;\n",
       "    }\n",
       "</style>\n",
       "<table border=\"1\" class=\"dataframe\">\n",
       "  <thead>\n",
       "    <tr style=\"text-align: right;\">\n",
       "      <th></th>\n",
       "      <th>ds</th>\n",
       "      <th>Page</th>\n",
       "      <th>y</th>\n",
       "    </tr>\n",
       "  </thead>\n",
       "  <tbody>\n",
       "    <tr>\n",
       "      <th>0</th>\n",
       "      <td>2015-07-01</td>\n",
       "      <td>é»åç«_(é¦æ¸¯)_zh.wikipedia.org_all-access...</td>\n",
       "      <td>84.0</td>\n",
       "    </tr>\n",
       "    <tr>\n",
       "      <th>1</th>\n",
       "      <td>2015-07-02</td>\n",
       "      <td>é»åç«_(é¦æ¸¯)_zh.wikipedia.org_all-access...</td>\n",
       "      <td>53.0</td>\n",
       "    </tr>\n",
       "    <tr>\n",
       "      <th>2</th>\n",
       "      <td>2015-07-03</td>\n",
       "      <td>é»åç«_(é¦æ¸¯)_zh.wikipedia.org_all-access...</td>\n",
       "      <td>54.0</td>\n",
       "    </tr>\n",
       "    <tr>\n",
       "      <th>3</th>\n",
       "      <td>2015-07-04</td>\n",
       "      <td>é»åç«_(é¦æ¸¯)_zh.wikipedia.org_all-access...</td>\n",
       "      <td>67.0</td>\n",
       "    </tr>\n",
       "    <tr>\n",
       "      <th>4</th>\n",
       "      <td>2015-07-05</td>\n",
       "      <td>é»åç«_(é¦æ¸¯)_zh.wikipedia.org_all-access...</td>\n",
       "      <td>84.0</td>\n",
       "    </tr>\n",
       "  </tbody>\n",
       "</table>\n",
       "</div>"
      ],
      "text/plain": [
       "          ds                                               Page     y\n",
       "0 2015-07-01  é»åç«_(é¦æ¸¯)_zh.wikipedia.org_all-access...  84.0\n",
       "1 2015-07-02  é»åç«_(é¦æ¸¯)_zh.wikipedia.org_all-access...  53.0\n",
       "2 2015-07-03  é»åç«_(é¦æ¸¯)_zh.wikipedia.org_all-access...  54.0\n",
       "3 2015-07-04  é»åç«_(é¦æ¸¯)_zh.wikipedia.org_all-access...  67.0\n",
       "4 2015-07-05  é»åç«_(é¦æ¸¯)_zh.wikipedia.org_all-access...  84.0"
      ]
     },
     "execution_count": 9,
     "metadata": {},
     "output_type": "execute_result"
    }
   ],
   "source": [
    "# page_sample = train.columns[np.random.randint(0, len(train.columns), 10)]\n",
    "\n",
    "# train_sample = train[page_sample].reset_index().rename(\n",
    "#     columns={\"index\": \"ds\"}).melt(id_vars=\"ds\").rename(columns={\"value\":\n",
    "#                                                                 \"y\"}).dropna()\n",
    "# test_sample = test[page_sample]\n",
    "\n",
    "# train_sample.head()"
   ]
  },
  {
   "cell_type": "code",
   "execution_count": 10,
   "metadata": {
    "ExecuteTime": {
     "end_time": "2018-02-12T07:02:49.361354Z",
     "start_time": "2018-02-12T07:02:14.683877Z"
    }
   },
   "outputs": [
    {
     "data": {
      "text/html": [
       "<div>\n",
       "<style>\n",
       "    .dataframe thead tr:only-child th {\n",
       "        text-align: right;\n",
       "    }\n",
       "\n",
       "    .dataframe thead th {\n",
       "        text-align: left;\n",
       "    }\n",
       "\n",
       "    .dataframe tbody tr th {\n",
       "        vertical-align: top;\n",
       "    }\n",
       "</style>\n",
       "<table border=\"1\" class=\"dataframe\">\n",
       "  <thead>\n",
       "    <tr style=\"text-align: right;\">\n",
       "      <th></th>\n",
       "      <th>Page</th>\n",
       "      <th>ds</th>\n",
       "      <th>yhat</th>\n",
       "    </tr>\n",
       "  </thead>\n",
       "  <tbody>\n",
       "    <tr>\n",
       "      <th>0</th>\n",
       "      <td>ConstituciÃ³n_de_la_NaciÃ³n_Argentina_es.wikip...</td>\n",
       "      <td>2017-07-03</td>\n",
       "      <td>1717.253280</td>\n",
       "    </tr>\n",
       "    <tr>\n",
       "      <th>1</th>\n",
       "      <td>ConstituciÃ³n_de_la_NaciÃ³n_Argentina_es.wikip...</td>\n",
       "      <td>2017-07-04</td>\n",
       "      <td>1025.852550</td>\n",
       "    </tr>\n",
       "    <tr>\n",
       "      <th>2</th>\n",
       "      <td>ConstituciÃ³n_de_la_NaciÃ³n_Argentina_es.wikip...</td>\n",
       "      <td>2017-07-05</td>\n",
       "      <td>1026.109014</td>\n",
       "    </tr>\n",
       "    <tr>\n",
       "      <th>3</th>\n",
       "      <td>ConstituciÃ³n_de_la_NaciÃ³n_Argentina_es.wikip...</td>\n",
       "      <td>2017-07-06</td>\n",
       "      <td>973.858243</td>\n",
       "    </tr>\n",
       "    <tr>\n",
       "      <th>4</th>\n",
       "      <td>ConstituciÃ³n_de_la_NaciÃ³n_Argentina_es.wikip...</td>\n",
       "      <td>2017-07-07</td>\n",
       "      <td>714.022240</td>\n",
       "    </tr>\n",
       "  </tbody>\n",
       "</table>\n",
       "</div>"
      ],
      "text/plain": [
       "                                                Page         ds         yhat\n",
       "0  ConstituciÃ³n_de_la_NaciÃ³n_Argentina_es.wikip... 2017-07-03  1717.253280\n",
       "1  ConstituciÃ³n_de_la_NaciÃ³n_Argentina_es.wikip... 2017-07-04  1025.852550\n",
       "2  ConstituciÃ³n_de_la_NaciÃ³n_Argentina_es.wikip... 2017-07-05  1026.109014\n",
       "3  ConstituciÃ³n_de_la_NaciÃ³n_Argentina_es.wikip... 2017-07-06   973.858243\n",
       "4  ConstituciÃ³n_de_la_NaciÃ³n_Argentina_es.wikip... 2017-07-07   714.022240"
      ]
     },
     "execution_count": 10,
     "metadata": {},
     "output_type": "execute_result"
    }
   ],
   "source": [
    "forecast = applyParallel(train.groupby(\"Page\"),\n",
    "                         prophet_forecast).reset_index().rename(\n",
    "                             columns={\"level_0\": \"Page\"}).drop(\n",
    "                                 \"level_1\", axis=1)\n",
    "forecast.head()"
   ]
  },
  {
   "cell_type": "code",
   "execution_count": 11,
   "metadata": {
    "ExecuteTime": {
     "end_time": "2018-02-12T07:02:49.397809Z",
     "start_time": "2018-02-12T07:02:49.365373Z"
    }
   },
   "outputs": [
    {
     "data": {
      "text/html": [
       "<div>\n",
       "<style>\n",
       "    .dataframe thead tr:only-child th {\n",
       "        text-align: right;\n",
       "    }\n",
       "\n",
       "    .dataframe thead th {\n",
       "        text-align: left;\n",
       "    }\n",
       "\n",
       "    .dataframe tbody tr th {\n",
       "        vertical-align: top;\n",
       "    }\n",
       "</style>\n",
       "<table border=\"1\" class=\"dataframe\">\n",
       "  <thead>\n",
       "    <tr style=\"text-align: right;\">\n",
       "      <th></th>\n",
       "      <th>ds</th>\n",
       "      <th>Page</th>\n",
       "      <th>value</th>\n",
       "      <th>yhat</th>\n",
       "    </tr>\n",
       "  </thead>\n",
       "  <tbody>\n",
       "    <tr>\n",
       "      <th>0</th>\n",
       "      <td>2017-07-03</td>\n",
       "      <td>é»åç«_(é¦æ¸¯)_zh.wikipedia.org_all-access...</td>\n",
       "      <td>128.0</td>\n",
       "      <td>113.503208</td>\n",
       "    </tr>\n",
       "    <tr>\n",
       "      <th>1</th>\n",
       "      <td>2017-07-04</td>\n",
       "      <td>é»åç«_(é¦æ¸¯)_zh.wikipedia.org_all-access...</td>\n",
       "      <td>109.0</td>\n",
       "      <td>94.620180</td>\n",
       "    </tr>\n",
       "    <tr>\n",
       "      <th>2</th>\n",
       "      <td>2017-07-05</td>\n",
       "      <td>é»åç«_(é¦æ¸¯)_zh.wikipedia.org_all-access...</td>\n",
       "      <td>136.0</td>\n",
       "      <td>84.884688</td>\n",
       "    </tr>\n",
       "    <tr>\n",
       "      <th>3</th>\n",
       "      <td>2017-07-06</td>\n",
       "      <td>é»åç«_(é¦æ¸¯)_zh.wikipedia.org_all-access...</td>\n",
       "      <td>136.0</td>\n",
       "      <td>84.399169</td>\n",
       "    </tr>\n",
       "    <tr>\n",
       "      <th>4</th>\n",
       "      <td>2017-07-07</td>\n",
       "      <td>é»åç«_(é¦æ¸¯)_zh.wikipedia.org_all-access...</td>\n",
       "      <td>162.0</td>\n",
       "      <td>97.387656</td>\n",
       "    </tr>\n",
       "  </tbody>\n",
       "</table>\n",
       "</div>"
      ],
      "text/plain": [
       "          ds                                               Page  value  \\\n",
       "0 2017-07-03  é»åç«_(é¦æ¸¯)_zh.wikipedia.org_all-access...  128.0   \n",
       "1 2017-07-04  é»åç«_(é¦æ¸¯)_zh.wikipedia.org_all-access...  109.0   \n",
       "2 2017-07-05  é»åç«_(é¦æ¸¯)_zh.wikipedia.org_all-access...  136.0   \n",
       "3 2017-07-06  é»åç«_(é¦æ¸¯)_zh.wikipedia.org_all-access...  136.0   \n",
       "4 2017-07-07  é»åç«_(é¦æ¸¯)_zh.wikipedia.org_all-access...  162.0   \n",
       "\n",
       "         yhat  \n",
       "0  113.503208  \n",
       "1   94.620180  \n",
       "2   84.884688  \n",
       "3   84.399169  \n",
       "4   97.387656  "
      ]
     },
     "execution_count": 11,
     "metadata": {},
     "output_type": "execute_result"
    }
   ],
   "source": [
    "forecast = pd.merge(\n",
    "    test_sample.reset_index().rename(columns={\"index\": \"ds\"}).melt(\n",
    "        id_vars=\"ds\"),\n",
    "    forecast,\n",
    "    on=[\"ds\", \"Page\"],\n",
    "    how=\"inner\")\n",
    "forecast.head()"
   ]
  },
  {
   "cell_type": "code",
   "execution_count": 12,
   "metadata": {
    "ExecuteTime": {
     "end_time": "2018-02-12T07:02:49.416663Z",
     "start_time": "2018-02-12T07:02:49.401192Z"
    }
   },
   "outputs": [
    {
     "name": "stdout",
     "output_type": "stream",
     "text": [
      "SMAPE is : \n",
      "81.98447484169223\n"
     ]
    }
   ],
   "source": [
    "print(\"SMAPE is : \")\n",
    "print(smape(y_pred=forecast[\"value\"], y_true=forecast[\"yhat\"]))"
   ]
  }
 ],
 "metadata": {
  "kernelspec": {
   "display_name": "Python [default]",
   "language": "python",
   "name": "python3"
  },
  "language_info": {
   "codemirror_mode": {
    "name": "ipython",
    "version": 3
   },
   "file_extension": ".py",
   "mimetype": "text/x-python",
   "name": "python",
   "nbconvert_exporter": "python",
   "pygments_lexer": "ipython3",
   "version": "3.6.3"
  },
  "toc": {
   "colors": {
    "hover_highlight": "#DAA520",
    "running_highlight": "#FF0000",
    "selected_highlight": "#FFD700"
   },
   "moveMenuLeft": true,
   "nav_menu": {
    "height": "242px",
    "width": "252px"
   },
   "navigate_menu": true,
   "number_sections": true,
   "sideBar": true,
   "threshold": 4,
   "toc_cell": false,
   "toc_section_display": "block",
   "toc_window_display": true,
   "widenNotebook": false
  }
 },
 "nbformat": 4,
 "nbformat_minor": 2
}
